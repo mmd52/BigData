{
 "cells": [
  {
   "cell_type": "markdown",
   "metadata": {},
   "source": [
    "# What's Cooking?\n",
    "#### @ Author - Mohammed\n",
    "**** [Website](https://datascience52.wordpress.com/) | [Github](https://github.com/mmd52) | [LinkedIn](https://www.linkedin.com/in/mohammedtopiwalla) ****\n",
    "\n",
    "*How this notebook is structured*\n",
    "* <a href='#part1'>Block loading all packages I may need</a> (Every problem has questions, assumptions and interpretations)\n",
    "* <a href='#part2'>Exploratory Data Analysis</a>\n",
    "* <a href='#part3'>Modeling</a>\n",
    "* * <a href='#part4'>Fixing data/ Text mining</a>\n",
    "* * <a href='#part5'>Logistic Regression</a>\n",
    "* * <a href='#part6'>Decision Tree</a>\n",
    "* * <a href='#part6'>Random Forest</a>\n",
    "* * <a href='#part7'>XGBOOST</a>\n",
    "* * <a href='#part8'>SVM</a>\n",
    "* * <a href='#part9'>Neural Networks</a>\n",
    "* <a href='#conclusion'>Conclusions</a>"
   ]
  },
  {
   "cell_type": "code",
   "execution_count": 13,
   "metadata": {
    "_cell_guid": "b1076dfc-b9ad-4769-8c92-a6c4dae69d19",
    "_uuid": "8f2839f25d086af736a60e9eeb907d3b93b6e0e5"
   },
   "outputs": [
    {
     "name": "stdout",
     "output_type": "stream",
     "text": [
      "==================== Loading Packages! ======================\n",
      "==================== Packages Loaded ======================\n",
      "Duration: --- 0.00011636018753051758 Minutes ---\n"
     ]
    }
   ],
   "source": [
    "print(\"==================== Loading Packages! ======================\")\n",
    "import time\n",
    "start_time = time.time()\n",
    "\n",
    "import pandas as pd\n",
    "pd.options.display.max_rows=30\n",
    "pd.options.display.max_columns=50\n",
    "import numpy as np\n",
    "import time\n",
    "import sklearn\n",
    "import xgboost as xgb\n",
    "import seaborn as sns\n",
    "from sklearn.cross_validation import train_test_split, cross_val_score\n",
    "from sklearn.metrics import roc_curve,auc\n",
    "import matplotlib.pyplot as plt\n",
    "from sklearn.metrics import confusion_matrix, classification_report, precision_score\n",
    "from sklearn.feature_extraction.text import TfidfVectorizer\n",
    "from sklearn.feature_extraction.text import CountVectorizer\n",
    "from sklearn.preprocessing import LabelEncoder\n",
    "from sklearn.cross_validation import train_test_split\n",
    "from sklearn.linear_model import LogisticRegression\n",
    "from sklearn.ensemble import RandomForestClassifier\n",
    "from sklearn.svm import SVC\n",
    "import nltk\n",
    "from collections import Counter\n",
    "r_state=52\n",
    "import warnings\n",
    "warnings.filterwarnings('ignore')\n",
    "%matplotlib inline\n",
    "print(\"==================== Packages Loaded ======================\")\n",
    "print(\"Duration: --- %s Minutes ---\" % ((time.time() - start_time)/60))"
   ]
  },
  {
   "cell_type": "code",
   "execution_count": 3,
   "metadata": {
    "_cell_guid": "79c7e3d0-c299-4dcb-8224-4455121ee9b0",
    "_uuid": "d629ff2d2480ee46fbb7e2d37f6b5fab8052498a"
   },
   "outputs": [
    {
     "name": "stdout",
     "output_type": "stream",
     "text": [
      "Data Loaded in: --- 0.009183998902638752 Minutes ---\n"
     ]
    }
   ],
   "source": [
    "start_time = time.time()\n",
    "df = pd.read_json('train.json')\n",
    "df['seperated_ingredients'] = df['ingredients'].apply(','.join)\n",
    "print(\"Data Loaded in: --- %s Minutes ---\" % ((time.time() - start_time)/60))"
   ]
  },
  {
   "cell_type": "code",
   "execution_count": 4,
   "metadata": {},
   "outputs": [
    {
     "data": {
      "text/html": [
       "<div>\n",
       "<style scoped>\n",
       "    .dataframe tbody tr th:only-of-type {\n",
       "        vertical-align: middle;\n",
       "    }\n",
       "\n",
       "    .dataframe tbody tr th {\n",
       "        vertical-align: top;\n",
       "    }\n",
       "\n",
       "    .dataframe thead th {\n",
       "        text-align: right;\n",
       "    }\n",
       "</style>\n",
       "<table border=\"1\" class=\"dataframe\">\n",
       "  <thead>\n",
       "    <tr style=\"text-align: right;\">\n",
       "      <th></th>\n",
       "      <th>cuisine</th>\n",
       "      <th>id</th>\n",
       "      <th>ingredients</th>\n",
       "      <th>seperated_ingredients</th>\n",
       "    </tr>\n",
       "  </thead>\n",
       "  <tbody>\n",
       "    <tr>\n",
       "      <th>0</th>\n",
       "      <td>greek</td>\n",
       "      <td>10259</td>\n",
       "      <td>[romaine lettuce, black olives, grape tomatoes...</td>\n",
       "      <td>romaine lettuce,black olives,grape tomatoes,ga...</td>\n",
       "    </tr>\n",
       "    <tr>\n",
       "      <th>1</th>\n",
       "      <td>southern_us</td>\n",
       "      <td>25693</td>\n",
       "      <td>[plain flour, ground pepper, salt, tomatoes, g...</td>\n",
       "      <td>plain flour,ground pepper,salt,tomatoes,ground...</td>\n",
       "    </tr>\n",
       "    <tr>\n",
       "      <th>2</th>\n",
       "      <td>filipino</td>\n",
       "      <td>20130</td>\n",
       "      <td>[eggs, pepper, salt, mayonaise, cooking oil, g...</td>\n",
       "      <td>eggs,pepper,salt,mayonaise,cooking oil,green c...</td>\n",
       "    </tr>\n",
       "    <tr>\n",
       "      <th>3</th>\n",
       "      <td>indian</td>\n",
       "      <td>22213</td>\n",
       "      <td>[water, vegetable oil, wheat, salt]</td>\n",
       "      <td>water,vegetable oil,wheat,salt</td>\n",
       "    </tr>\n",
       "    <tr>\n",
       "      <th>4</th>\n",
       "      <td>indian</td>\n",
       "      <td>13162</td>\n",
       "      <td>[black pepper, shallots, cornflour, cayenne pe...</td>\n",
       "      <td>black pepper,shallots,cornflour,cayenne pepper...</td>\n",
       "    </tr>\n",
       "  </tbody>\n",
       "</table>\n",
       "</div>"
      ],
      "text/plain": [
       "       cuisine     id                                        ingredients  \\\n",
       "0        greek  10259  [romaine lettuce, black olives, grape tomatoes...   \n",
       "1  southern_us  25693  [plain flour, ground pepper, salt, tomatoes, g...   \n",
       "2     filipino  20130  [eggs, pepper, salt, mayonaise, cooking oil, g...   \n",
       "3       indian  22213                [water, vegetable oil, wheat, salt]   \n",
       "4       indian  13162  [black pepper, shallots, cornflour, cayenne pe...   \n",
       "\n",
       "                               seperated_ingredients  \n",
       "0  romaine lettuce,black olives,grape tomatoes,ga...  \n",
       "1  plain flour,ground pepper,salt,tomatoes,ground...  \n",
       "2  eggs,pepper,salt,mayonaise,cooking oil,green c...  \n",
       "3                     water,vegetable oil,wheat,salt  \n",
       "4  black pepper,shallots,cornflour,cayenne pepper...  "
      ]
     },
     "execution_count": 4,
     "metadata": {},
     "output_type": "execute_result"
    }
   ],
   "source": [
    "df.head()"
   ]
  },
  {
   "cell_type": "markdown",
   "metadata": {},
   "source": [
    "### EDA BEGINS"
   ]
  },
  {
   "cell_type": "code",
   "execution_count": 24,
   "metadata": {},
   "outputs": [
    {
     "data": {
      "text/plain": [
       "<matplotlib.axes._subplots.AxesSubplot at 0x1f2985d80b8>"
      ]
     },
     "execution_count": 24,
     "metadata": {},
     "output_type": "execute_result"
    },
    {
     "data": {
      "image/png": "[encoded data removed]",
      "text/plain": [
       "<matplotlib.figure.Figure at 0x1f298486518>"
      ]
     },
     "metadata": {},
     "output_type": "display_data"
    }
   ],
   "source": [
    "sns.distplot(df['ingredients'].str.len())"
   ]
  },
  {
   "cell_type": "code",
   "execution_count": 7,
   "metadata": {},
   "outputs": [
    {
     "name": "stdout",
     "output_type": "stream",
     "text": [
      "Maximum Number of Ingredients in a Dish:  65\n",
      "Average Number of Ingredients in a Dish:  11\n",
      "Minimum Number of Ingredients in a Dish:  1\n"
     ]
    }
   ],
   "source": [
    "print('Maximum Number of Ingredients in a Dish: ',df['ingredients'].str.len().max())\n",
    "print('Average Number of Ingredients in a Dish: ',round(df['ingredients'].str.len().mean()))\n",
    "print('Minimum Number of Ingredients in a Dish: ',df['ingredients'].str.len().min())"
   ]
  },
  {
   "cell_type": "code",
   "execution_count": 15,
   "metadata": {},
   "outputs": [
    {
     "name": "stdout",
     "output_type": "stream",
     "text": [
      "Dishes having just one Ingredient\n"
     ]
    },
    {
     "data": {
      "text/html": [
       "<div>\n",
       "<style scoped>\n",
       "    .dataframe tbody tr th:only-of-type {\n",
       "        vertical-align: middle;\n",
       "    }\n",
       "\n",
       "    .dataframe tbody tr th {\n",
       "        vertical-align: top;\n",
       "    }\n",
       "\n",
       "    .dataframe thead th {\n",
       "        text-align: right;\n",
       "    }\n",
       "</style>\n",
       "<table border=\"1\" class=\"dataframe\">\n",
       "  <thead>\n",
       "    <tr style=\"text-align: right;\">\n",
       "      <th></th>\n",
       "      <th>cuisine</th>\n",
       "      <th>id</th>\n",
       "      <th>ingredients</th>\n",
       "      <th>seperated_ingredients</th>\n",
       "    </tr>\n",
       "  </thead>\n",
       "  <tbody>\n",
       "    <tr>\n",
       "      <th>940</th>\n",
       "      <td>japanese</td>\n",
       "      <td>4734</td>\n",
       "      <td>[sushi rice]</td>\n",
       "      <td>sushi rice</td>\n",
       "    </tr>\n",
       "    <tr>\n",
       "      <th>2088</th>\n",
       "      <td>vietnamese</td>\n",
       "      <td>7833</td>\n",
       "      <td>[dried rice noodles]</td>\n",
       "      <td>dried rice noodles</td>\n",
       "    </tr>\n",
       "    <tr>\n",
       "      <th>6787</th>\n",
       "      <td>indian</td>\n",
       "      <td>36818</td>\n",
       "      <td>[plain low-fat yogurt]</td>\n",
       "      <td>plain low-fat yogurt</td>\n",
       "    </tr>\n",
       "    <tr>\n",
       "      <th>7011</th>\n",
       "      <td>indian</td>\n",
       "      <td>19772</td>\n",
       "      <td>[unsalted butter]</td>\n",
       "      <td>unsalted butter</td>\n",
       "    </tr>\n",
       "    <tr>\n",
       "      <th>8181</th>\n",
       "      <td>japanese</td>\n",
       "      <td>16116</td>\n",
       "      <td>[udon]</td>\n",
       "      <td>udon</td>\n",
       "    </tr>\n",
       "    <tr>\n",
       "      <th>8852</th>\n",
       "      <td>thai</td>\n",
       "      <td>29738</td>\n",
       "      <td>[sticky rice]</td>\n",
       "      <td>sticky rice</td>\n",
       "    </tr>\n",
       "    <tr>\n",
       "      <th>8990</th>\n",
       "      <td>indian</td>\n",
       "      <td>41124</td>\n",
       "      <td>[butter]</td>\n",
       "      <td>butter</td>\n",
       "    </tr>\n",
       "    <tr>\n",
       "      <th>10506</th>\n",
       "      <td>mexican</td>\n",
       "      <td>32631</td>\n",
       "      <td>[corn tortillas]</td>\n",
       "      <td>corn tortillas</td>\n",
       "    </tr>\n",
       "    <tr>\n",
       "      <th>13178</th>\n",
       "      <td>thai</td>\n",
       "      <td>29570</td>\n",
       "      <td>[grained]</td>\n",
       "      <td>grained</td>\n",
       "    </tr>\n",
       "    <tr>\n",
       "      <th>17804</th>\n",
       "      <td>southern_us</td>\n",
       "      <td>29849</td>\n",
       "      <td>[lemonade concentrate]</td>\n",
       "      <td>lemonade concentrate</td>\n",
       "    </tr>\n",
       "    <tr>\n",
       "      <th>18136</th>\n",
       "      <td>thai</td>\n",
       "      <td>39186</td>\n",
       "      <td>[jasmine rice]</td>\n",
       "      <td>jasmine rice</td>\n",
       "    </tr>\n",
       "    <tr>\n",
       "      <th>18324</th>\n",
       "      <td>indian</td>\n",
       "      <td>14335</td>\n",
       "      <td>[unsalted butter]</td>\n",
       "      <td>unsalted butter</td>\n",
       "    </tr>\n",
       "    <tr>\n",
       "      <th>21008</th>\n",
       "      <td>italian</td>\n",
       "      <td>39221</td>\n",
       "      <td>[cherry tomatoes]</td>\n",
       "      <td>cherry tomatoes</td>\n",
       "    </tr>\n",
       "    <tr>\n",
       "      <th>22119</th>\n",
       "      <td>french</td>\n",
       "      <td>41135</td>\n",
       "      <td>[butter]</td>\n",
       "      <td>butter</td>\n",
       "    </tr>\n",
       "    <tr>\n",
       "      <th>22387</th>\n",
       "      <td>indian</td>\n",
       "      <td>36874</td>\n",
       "      <td>[cumin seed]</td>\n",
       "      <td>cumin seed</td>\n",
       "    </tr>\n",
       "    <tr>\n",
       "      <th>23512</th>\n",
       "      <td>french</td>\n",
       "      <td>35028</td>\n",
       "      <td>[haricots verts]</td>\n",
       "      <td>haricots verts</td>\n",
       "    </tr>\n",
       "    <tr>\n",
       "      <th>26887</th>\n",
       "      <td>mexican</td>\n",
       "      <td>18593</td>\n",
       "      <td>[vegetable oil]</td>\n",
       "      <td>vegetable oil</td>\n",
       "    </tr>\n",
       "    <tr>\n",
       "      <th>29294</th>\n",
       "      <td>spanish</td>\n",
       "      <td>7460</td>\n",
       "      <td>[spanish chorizo]</td>\n",
       "      <td>spanish chorizo</td>\n",
       "    </tr>\n",
       "    <tr>\n",
       "      <th>30636</th>\n",
       "      <td>spanish</td>\n",
       "      <td>32772</td>\n",
       "      <td>[sweetened condensed milk]</td>\n",
       "      <td>sweetened condensed milk</td>\n",
       "    </tr>\n",
       "    <tr>\n",
       "      <th>32105</th>\n",
       "      <td>japanese</td>\n",
       "      <td>12805</td>\n",
       "      <td>[water]</td>\n",
       "      <td>water</td>\n",
       "    </tr>\n",
       "    <tr>\n",
       "      <th>34531</th>\n",
       "      <td>greek</td>\n",
       "      <td>10816</td>\n",
       "      <td>[phyllo]</td>\n",
       "      <td>phyllo</td>\n",
       "    </tr>\n",
       "    <tr>\n",
       "      <th>37220</th>\n",
       "      <td>indian</td>\n",
       "      <td>27192</td>\n",
       "      <td>[unsalted butter]</td>\n",
       "      <td>unsalted butter</td>\n",
       "    </tr>\n",
       "  </tbody>\n",
       "</table>\n",
       "</div>"
      ],
      "text/plain": [
       "           cuisine     id                 ingredients  \\\n",
       "940       japanese   4734                [sushi rice]   \n",
       "2088    vietnamese   7833        [dried rice noodles]   \n",
       "6787        indian  36818      [plain low-fat yogurt]   \n",
       "7011        indian  19772           [unsalted butter]   \n",
       "8181      japanese  16116                      [udon]   \n",
       "8852          thai  29738               [sticky rice]   \n",
       "8990        indian  41124                    [butter]   \n",
       "10506      mexican  32631            [corn tortillas]   \n",
       "13178         thai  29570                   [grained]   \n",
       "17804  southern_us  29849      [lemonade concentrate]   \n",
       "18136         thai  39186              [jasmine rice]   \n",
       "18324       indian  14335           [unsalted butter]   \n",
       "21008      italian  39221           [cherry tomatoes]   \n",
       "22119       french  41135                    [butter]   \n",
       "22387       indian  36874                [cumin seed]   \n",
       "23512       french  35028            [haricots verts]   \n",
       "26887      mexican  18593             [vegetable oil]   \n",
       "29294      spanish   7460           [spanish chorizo]   \n",
       "30636      spanish  32772  [sweetened condensed milk]   \n",
       "32105     japanese  12805                     [water]   \n",
       "34531        greek  10816                    [phyllo]   \n",
       "37220       indian  27192           [unsalted butter]   \n",
       "\n",
       "          seperated_ingredients  \n",
       "940                  sushi rice  \n",
       "2088         dried rice noodles  \n",
       "6787       plain low-fat yogurt  \n",
       "7011            unsalted butter  \n",
       "8181                       udon  \n",
       "8852                sticky rice  \n",
       "8990                     butter  \n",
       "10506            corn tortillas  \n",
       "13178                   grained  \n",
       "17804      lemonade concentrate  \n",
       "18136              jasmine rice  \n",
       "18324           unsalted butter  \n",
       "21008           cherry tomatoes  \n",
       "22119                    butter  \n",
       "22387                cumin seed  \n",
       "23512            haricots verts  \n",
       "26887             vegetable oil  \n",
       "29294           spanish chorizo  \n",
       "30636  sweetened condensed milk  \n",
       "32105                     water  \n",
       "34531                    phyllo  \n",
       "37220           unsalted butter  "
      ]
     },
     "execution_count": 15,
     "metadata": {},
     "output_type": "execute_result"
    }
   ],
   "source": [
    "print('Dishes having just one Ingredient')\n",
    "df.loc[df['ingredients'].str.len()==1]"
   ]
  },
  {
   "cell_type": "code",
   "execution_count": 19,
   "metadata": {},
   "outputs": [
    {
     "name": "stdout",
     "output_type": "stream",
     "text": [
      "Dish with 65 ingredients!\n"
     ]
    },
    {
     "data": {
      "text/html": [
       "<div>\n",
       "<style scoped>\n",
       "    .dataframe tbody tr th:only-of-type {\n",
       "        vertical-align: middle;\n",
       "    }\n",
       "\n",
       "    .dataframe tbody tr th {\n",
       "        vertical-align: top;\n",
       "    }\n",
       "\n",
       "    .dataframe thead th {\n",
       "        text-align: right;\n",
       "    }\n",
       "</style>\n",
       "<table border=\"1\" class=\"dataframe\">\n",
       "  <thead>\n",
       "    <tr style=\"text-align: right;\">\n",
       "      <th></th>\n",
       "      <th>cuisine</th>\n",
       "      <th>id</th>\n",
       "      <th>ingredients</th>\n",
       "      <th>seperated_ingredients</th>\n",
       "    </tr>\n",
       "  </thead>\n",
       "  <tbody>\n",
       "    <tr>\n",
       "      <th>15289</th>\n",
       "      <td>italian</td>\n",
       "      <td>3885</td>\n",
       "      <td>[fettucine, fresh marjoram, minced garlic, oli...</td>\n",
       "      <td>fettucine,fresh marjoram,minced garlic,olive o...</td>\n",
       "    </tr>\n",
       "  </tbody>\n",
       "</table>\n",
       "</div>"
      ],
      "text/plain": [
       "       cuisine    id                                        ingredients  \\\n",
       "15289  italian  3885  [fettucine, fresh marjoram, minced garlic, oli...   \n",
       "\n",
       "                                   seperated_ingredients  \n",
       "15289  fettucine,fresh marjoram,minced garlic,olive o...  "
      ]
     },
     "execution_count": 19,
     "metadata": {},
     "output_type": "execute_result"
    }
   ],
   "source": [
    "print('Dish with 65 ingredients!')\n",
    "df.loc[df['ingredients'].str.len()==65]"
   ]
  },
  {
   "cell_type": "code",
   "execution_count": 23,
   "metadata": {},
   "outputs": [
    {
     "data": {
      "image/png": "[encoded data removed]",
      "text/plain": [
       "<matplotlib.figure.Figure at 0x1f2984960b8>"
      ]
     },
     "metadata": {},
     "output_type": "display_data"
    }
   ],
   "source": [
    "plt.figure(figsize=(15, 15))\n",
    "sns.countplot(y = 'cuisine',data = df,order = df['cuisine'].value_counts().index)\n",
    "plt.show()"
   ]
  },
  {
   "cell_type": "markdown",
   "metadata": {},
   "source": [
    "Now I want to count number of times one particular ingredient has been used across all dishes\n",
    "* For this I am using a count vectorizer which will create a huge matrix of dishes against ingredients (binarized) from which I can get a count\n",
    "* So the count vectorizer splits ingredients wherver it gets a comma\n",
    "* zip functions makes ingredient names and their counts pass as a single argument to dict\n",
    "* Finally I assign this to apandas data frame"
   ]
  },
  {
   "cell_type": "code",
   "execution_count": 49,
   "metadata": {},
   "outputs": [],
   "source": [
    "vec = CountVectorizer(tokenizer=lambda x: [i.strip() for i in x.split(',')], lowercase=False)\n",
    "counts = vec.fit_transform(df['seperated_ingredients']) \n",
    "count=dict(zip(vec.get_feature_names(), counts.sum(axis=0).tolist()[0]))\n",
    "count=pd.DataFrame(list(count.items()),columns=['Ingredient','Count'])"
   ]
  },
  {
   "cell_type": "code",
   "execution_count": 50,
   "metadata": {},
   "outputs": [
    {
     "data": {
      "text/html": [
       "<div>\n",
       "<style scoped>\n",
       "    .dataframe tbody tr th:only-of-type {\n",
       "        vertical-align: middle;\n",
       "    }\n",
       "\n",
       "    .dataframe tbody tr th {\n",
       "        vertical-align: top;\n",
       "    }\n",
       "\n",
       "    .dataframe thead th {\n",
       "        text-align: right;\n",
       "    }\n",
       "</style>\n",
       "<table border=\"1\" class=\"dataframe\">\n",
       "  <thead>\n",
       "    <tr style=\"text-align: right;\">\n",
       "      <th></th>\n",
       "      <th>Ingredient</th>\n",
       "      <th>Count</th>\n",
       "    </tr>\n",
       "  </thead>\n",
       "  <tbody>\n",
       "    <tr>\n",
       "      <th>5691</th>\n",
       "      <td>sofrito</td>\n",
       "      <td>5</td>\n",
       "    </tr>\n",
       "  </tbody>\n",
       "</table>\n",
       "</div>"
      ],
      "text/plain": [
       "     Ingredient  Count\n",
       "5691    sofrito      5"
      ]
     },
     "execution_count": 50,
     "metadata": {},
     "output_type": "execute_result"
    }
   ],
   "source": [
    "count.sample()"
   ]
  },
  {
   "cell_type": "code",
   "execution_count": 62,
   "metadata": {},
   "outputs": [
    {
     "name": "stdout",
     "output_type": "stream",
     "text": [
      "Finally what are the top 10 used ingredients\n"
     ]
    },
    {
     "data": {
      "image/png": "[encoded data removed]",
      "text/plain": [
       "<matplotlib.figure.Figure at 0x1f29842bd68>"
      ]
     },
     "metadata": {},
     "output_type": "display_data"
    }
   ],
   "source": [
    "print('Finally what are the top 10 used ingredients')\n",
    "plt.figure(figsize=(7, 7))\n",
    "sns.barplot(y = 'Ingredient',x='Count',data=count.sort_values('Count',ascending=False)[:10])\n",
    "plt.show()"
   ]
  },
  {
   "cell_type": "code",
   "execution_count": 68,
   "metadata": {},
   "outputs": [
    {
     "data": {
      "image/png": "[encoded data removed]",
      "text/plain": [
       "<matplotlib.figure.Figure at 0x1f298d9fb00>"
      ]
     },
     "metadata": {},
     "output_type": "display_data"
    }
   ],
   "source": [
    "df['for ngrams']=df['seperated_ingredients'].str.replace(',',' ')\n",
    "f,ax=plt.subplots(3,2,figsize=(20,15))\n",
    "def ingre_cusine(cuisine):\n",
    "    frame=df[df['cuisine']==cuisine]\n",
    "    common=list(nltk.bigrams(nltk.word_tokenize(\" \".join(frame['for ngrams']))))\n",
    "    return pd.DataFrame(Counter(common),index=['count']).T.sort_values('count',ascending=False)[:10]\n",
    "\n",
    "ingre_cusine('italian').plot.barh(ax=ax[0,0],width=0.9,color='#009900')\n",
    "ax[0,0].set_title('Italian Cuisine')\n",
    "\n",
    "ingre_cusine('mexican').plot.barh(ax=ax[0,1],width=0.9,color='#99c2ff')\n",
    "ax[0,1].set_title('Mexican Cuisine')\n",
    "\n",
    "ingre_cusine('southern_us').plot.barh(ax=ax[1,0],width=0.9,color='#66ff66')\n",
    "ax[1,0].set_title('Southern US Cuisine')\n",
    "\n",
    "ingre_cusine('indian').plot.barh(ax=ax[1,1],width=0.9,color='#0066ff')\n",
    "ax[1,1].set_title('Indian Cuisine')\n",
    "\n",
    "ingre_cusine('chinese').plot.barh(ax=ax[2,0],width=0.9,color='#ffe699')\n",
    "ax[2,0].set_title('Chinese Cuisine')\n",
    "\n",
    "ingre_cusine('french').plot.barh(ax=ax[2,1],width=0.9,color='#cc9900')\n",
    "ax[2,1].set_title('French Cuisine')\n",
    "\n",
    "plt.subplots_adjust(wspace=0.5)"
   ]
  },
  {
   "cell_type": "markdown",
   "metadata": {},
   "source": [
    "### Lets Begin with the modeling "
   ]
  },
  {
   "cell_type": "markdown",
   "metadata": {},
   "source": [
    "Now because we can have different number of ingredients per dish it could be essential for us to use text mining techniques\n",
    "* Below I make use of the tfIDF vectorizer to create a sparse matrix and to ensure the rare ingredients are highlighted\n",
    "* The encoder for y just adds labels to names"
   ]
  },
  {
   "cell_type": "markdown",
   "metadata": {},
   "source": [
    "#### We tried here count vectorizer model, tf idf , however tf idf worked better"
   ]
  },
  {
   "cell_type": "code",
   "execution_count": 69,
   "metadata": {
    "_uuid": "ea2390cd47109caf51f6afb0a4dc35a022fe7128",
    "collapsed": true
   },
   "outputs": [],
   "source": [
    "# Converting ingredients into a sparse matrix (Using iverse document frequency, because it highlights unique elements)\n",
    "vect = TfidfVectorizer(binary=True).fit(df['seperated_ingredients'].values)\n",
    "X_train_vectorized = vect.transform(df['seperated_ingredients'].values)\n",
    "X_train_vectorized = X_train_vectorized.astype('float')\n",
    "\n",
    "# Encoding labels\n",
    "encoder = LabelEncoder()\n",
    "y_transformed = encoder.fit_transform(df.cuisine)"
   ]
  },
  {
   "cell_type": "markdown",
   "metadata": {},
   "source": [
    "#### Splitting data into train test"
   ]
  },
  {
   "cell_type": "code",
   "execution_count": 4,
   "metadata": {
    "_uuid": "db4920240a01ec9b748cc13a1e840568cb728794",
    "collapsed": true
   },
   "outputs": [],
   "source": [
    "X_train, X_test, y_train, y_test = train_test_split(X_train_vectorized, y_transformed , random_state = r_state)"
   ]
  },
  {
   "cell_type": "markdown",
   "metadata": {},
   "source": [
    "#### Logistic regression, but whats the best c value?"
   ]
  },
  {
   "cell_type": "code",
   "execution_count": 5,
   "metadata": {
    "_uuid": "af474a14180731b1de454784da780d62e900500f"
   },
   "outputs": [
    {
     "name": "stdout",
     "output_type": "stream",
     "text": [
      "The top accuracy forecast is 79.5%\n",
      "Obtained C value = 5.0\n"
     ]
    },
    {
     "data": {
      "image/png": "[encoded data removed]",
      "text/plain": [
       "<matplotlib.figure.Figure at 0x1a00c59c3c8>"
      ]
     },
     "metadata": {},
     "output_type": "display_data"
    }
   ],
   "source": [
    "# Logistic regression, which value for C seems best\n",
    "avg_scores = []\n",
    "parameter_values = [1,3,5,7,10,50,100]\n",
    "for mid in parameter_values:\n",
    "    estimator = LogisticRegression(C=mid)\n",
    "    estimator.fit(X_train , y_train)\n",
    "    avg_scores.append(np.mean(estimator.score(X_test, y_test)))\n",
    "\n",
    "plt.figure(figsize=(5,5))\n",
    "plt.plot(parameter_values, avg_scores, '-o', linewidth=2, markersize=5)\n",
    "print(\"The top accuracy forecast is {0:.1f}%\".format(avg_scores[np.argmax(avg_scores)]*100))\n",
    "print(\"Obtained C value = {0:.1f}\".format(parameter_values[np.argmax(avg_scores)]))"
   ]
  },
  {
   "cell_type": "code",
   "execution_count": null,
   "metadata": {
    "_uuid": "1d8239833b3f3733c82c51274d3bfc1d40e162f3",
    "collapsed": true
   },
   "outputs": [],
   "source": [
    "# Run this block to submit at kaggle\n",
    "#estimator = LogisticRegression(C=5)\n",
    "#estimator.fit(X_train , y_train)\n",
    "#y_predicted = estimator.predict(Result_transformed)\n",
    "#y_predicted_final = encoder.inverse_transform(y_predicted)\n",
    "#predictions = pd.DataFrame({'cuisine' : y_predicted_final , 'id' : test_df.id })\n",
    "#predictions = predictions[[ 'id' , 'cuisine']]\n",
    "#predictions.to_csv('submit_Logistic.csv', index = False)"
   ]
  },
  {
   "cell_type": "markdown",
   "metadata": {},
   "source": [
    "#### Can XGBOOST save our lives"
   ]
  },
  {
   "cell_type": "code",
   "execution_count": 6,
   "metadata": {
    "_uuid": "8ea95ff277b1ecc4f8deec958364f9042f8e26e7"
   },
   "outputs": [
    {
     "name": "stdout",
     "output_type": "stream",
     "text": [
      "accuracy: 0.734010\n"
     ]
    }
   ],
   "source": [
    "# How does XGBOOST perform here?\n",
    "params = {\"objective\":\"multi:softmax\",\"learning_rate\":0.1,\"max_depth\":200,\"subsample\":0.2,\n",
    "          \"colsample_bytree\":0.5,\"seed\":r_state,\"num_class\":20}\n",
    "\n",
    "# Instantiate the XGBClassifier: xg_cl\n",
    "xg_cl = xgb.XGBClassifier(params=params)\n",
    "\n",
    "# Fit the classifier to the training set\n",
    "xg_cl.fit(X_train,y_train)\n",
    "\n",
    "# Predict the labels of the test set: preds\n",
    "preds = xg_cl.predict(X_test)\n",
    "\n",
    "# Compute the accuracy: accuracy\n",
    "accuracy = float(np.sum(preds==y_test))/y_test.shape[0]\n",
    "print(\"accuracy: %f\" % (accuracy))"
   ]
  },
  {
   "cell_type": "markdown",
   "metadata": {},
   "source": [
    "#### What about random Forests"
   ]
  },
  {
   "cell_type": "code",
   "execution_count": 8,
   "metadata": {
    "_uuid": "ffb72350473be5b06b800660cfcb18371682120f"
   },
   "outputs": [
    {
     "data": {
      "text/plain": [
       "0.72043443282381336"
      ]
     },
     "execution_count": 8,
     "metadata": {},
     "output_type": "execute_result"
    }
   ],
   "source": [
    "# Random Forest\n",
    "model= RandomForestClassifier(max_depth=500,n_estimators=100,oob_score=True,\n",
    "                              min_samples_split=5,random_state=r_state,min_samples_leaf=2,criterion='gini',max_features=0.7)\n",
    "model.fit(X_train,y_train)\n",
    "model.score(X_test,y_test)"
   ]
  },
  {
   "cell_type": "markdown",
   "metadata": {},
   "source": [
    "#### SVM does the trick"
   ]
  },
  {
   "cell_type": "code",
   "execution_count": 9,
   "metadata": {
    "_uuid": "6db8104986f35ea50554de9d6d00425d53462466"
   },
   "outputs": [
    {
     "data": {
      "text/plain": [
       "0.8128519710378117"
      ]
     },
     "execution_count": 9,
     "metadata": {},
     "output_type": "execute_result"
    }
   ],
   "source": [
    "# SVM\n",
    "vclf=SVC(C=100,gamma=1,kernel='rbf',probability=True)\n",
    "vclf.fit(X_train , y_train)\n",
    "vclf.score(X_test, y_test)"
   ]
  },
  {
   "cell_type": "code",
   "execution_count": null,
   "metadata": {
    "_uuid": "10ee8ea6d7be2d13ec9183867a35f6f5f4583fc8",
    "collapsed": true
   },
   "outputs": [],
   "source": [
    "# Uncomment this to submit to kaggle\n",
    "#y_predicted = vclf.predict(Result_transformed)\n",
    "#y_predicted_final = encoder.inverse_transform(y_predicted)\n",
    "#predictions = pd.DataFrame({'cuisine' : y_predicted_final , 'id' : test_df.id })\n",
    "#predictions = predictions[[ 'id' , 'cuisine']]\n",
    "#predictions.to_csv('submit_svm.csv', index = False)"
   ]
  },
  {
   "cell_type": "markdown",
   "metadata": {},
   "source": [
    "#### Neural Networks may save us"
   ]
  },
  {
   "cell_type": "code",
   "execution_count": 13,
   "metadata": {
    "_uuid": "9808461f776c11ab2b2ae2bafd4b2a4957950535",
    "collapsed": true
   },
   "outputs": [],
   "source": [
    "# Import `Sequential` from `keras.models`\n",
    "from keras.models import Sequential\n",
    "\n",
    "# Import `Dense` from `keras.layers`\n",
    "from keras.layers import Dense\n",
    "\n",
    "# Initialize the constructor\n",
    "model = Sequential()\n",
    "\n",
    "# Add an input layer \n",
    "model.add(Dense(1000,kernel_initializer='uniform', activation='relu', input_shape=(3051,)))\n",
    "\n",
    "model.add(Dense(500,kernel_initializer='uniform', activation='relu'))\n",
    "\n",
    "model.add(Dense(250,kernel_initializer='uniform', activation='relu'))\n",
    "\n",
    "model.add(Dense(100,kernel_initializer='uniform', activation='relu'))\n",
    "\n",
    "# Add an output layer \n",
    "model.add(Dense(20, kernel_initializer='uniform',activation='sigmoid'))"
   ]
  },
  {
   "cell_type": "code",
   "execution_count": 14,
   "metadata": {
    "_uuid": "2001215ed743f2a0e266e48a096a50041a972adf"
   },
   "outputs": [
    {
     "name": "stdout",
     "output_type": "stream",
     "text": [
      "Epoch 1/20\n",
      "29830/29830 [==============================] - 57s 2ms/step - loss: 1.6721 - acc: 0.4513\n",
      "Epoch 2/20\n",
      "29830/29830 [==============================] - 56s 2ms/step - loss: 0.8993 - acc: 0.7124\n",
      "Epoch 3/20\n",
      "29830/29830 [==============================] - 56s 2ms/step - loss: 0.5628 - acc: 0.8328\n",
      "Epoch 4/20\n",
      "29830/29830 [==============================] - 56s 2ms/step - loss: 0.3281 - acc: 0.8998\n",
      "Epoch 5/20\n",
      "29830/29830 [==============================] - 56s 2ms/step - loss: 0.1810 - acc: 0.9468\n",
      "Epoch 6/20\n",
      "29830/29830 [==============================] - 56s 2ms/step - loss: 0.1011 - acc: 0.9702\n",
      "Epoch 7/20\n",
      "29830/29830 [==============================] - 56s 2ms/step - loss: 0.0643 - acc: 0.9819\n",
      "Epoch 8/20\n",
      "29830/29830 [==============================] - 56s 2ms/step - loss: 0.0503 - acc: 0.9861\n",
      "Epoch 9/20\n",
      "29830/29830 [==============================] - 56s 2ms/step - loss: 0.0430 - acc: 0.9883\n",
      "Epoch 10/20\n",
      "29830/29830 [==============================] - 56s 2ms/step - loss: 0.0396 - acc: 0.9882\n",
      "Epoch 11/20\n",
      "29830/29830 [==============================] - 56s 2ms/step - loss: 0.0391 - acc: 0.9892\n",
      "Epoch 12/20\n",
      "29830/29830 [==============================] - 55s 2ms/step - loss: 0.0375 - acc: 0.9888\n",
      "Epoch 13/20\n",
      "29830/29830 [==============================] - 55s 2ms/step - loss: 0.0378 - acc: 0.9893\n",
      "Epoch 14/20\n",
      "29830/29830 [==============================] - 56s 2ms/step - loss: 0.0299 - acc: 0.9918\n",
      "Epoch 15/20\n",
      "29830/29830 [==============================] - 56s 2ms/step - loss: 0.0226 - acc: 0.9940\n",
      "Epoch 16/20\n",
      "29830/29830 [==============================] - 58s 2ms/step - loss: 0.0246 - acc: 0.9933\n",
      "Epoch 17/20\n",
      "29830/29830 [==============================] - 56s 2ms/step - loss: 0.0258 - acc: 0.9928\n",
      "Epoch 18/20\n",
      "29830/29830 [==============================] - 60s 2ms/step - loss: 0.0263 - acc: 0.9932\n",
      "Epoch 19/20\n",
      "29830/29830 [==============================] - 57s 2ms/step - loss: 0.0222 - acc: 0.9945\n",
      "Epoch 20/20\n",
      "29830/29830 [==============================] - 56s 2ms/step - loss: 0.0144 - acc: 0.9966\n"
     ]
    }
   ],
   "source": [
    "from keras.utils import np_utils\n",
    "encoder = LabelEncoder()\n",
    "encoder.fit(y_train)\n",
    "encoded_Y = encoder.transform(y_train)\n",
    "# convert integers to dummy variables (i.e. one hot encoded)\n",
    "dummy_y = np_utils.to_categorical(encoded_Y)\n",
    "\n",
    "model.compile(loss='categorical_crossentropy', optimizer='adam', metrics=['accuracy'])\n",
    "                   \n",
    "mod=model.fit(X_train, dummy_y,epochs=20, batch_size=64, verbose=1)"
   ]
  },
  {
   "cell_type": "code",
   "execution_count": 15,
   "metadata": {
    "_uuid": "3396a42c28c8248c404dc23bca3d0b5f27f9a2c9"
   },
   "outputs": [
    {
     "name": "stdout",
     "output_type": "stream",
     "text": [
      "9944/9944 [==============================] - 5s 455us/step\n",
      "[2.1429081199059827, 0.75754223647658514]\n"
     ]
    }
   ],
   "source": [
    "from keras.utils import np_utils\n",
    "encoder = LabelEncoder()\n",
    "encoder.fit(y_test)\n",
    "encoded_Y = encoder.transform(y_test)\n",
    "# convert integers to dummy variables (i.e. one hot encoded)\n",
    "dummy_y_test = np_utils.to_categorical(encoded_Y)\n",
    "\n",
    "scores = model.evaluate(X_test, dummy_y_test,verbose=1)\n",
    "print(scores)"
   ]
  },
  {
   "cell_type": "code",
   "execution_count": null,
   "metadata": {
    "_uuid": "6d8c2d0e84ef100373a2f2d9d78ed43c85dd0c03",
    "collapsed": true
   },
   "outputs": [],
   "source": [
    "# Uncomment to submit to kaggle\n",
    "#y_predicted = model.predict(Result_transformed)\n",
    "#predictions = pd.DataFrame({'cuisine' : y_predicted_final , 'id' : test_df.id })\n",
    "#predictions = predictions[[ 'id' , 'cuisine']]\n",
    "#predictions.to_csv('submit_NN.csv', index = False)"
   ]
  },
  {
   "cell_type": "markdown",
   "metadata": {},
   "source": [
    "### Summary\n",
    "Neural networks performed best on Kaggle, however SVM performed best on my test set"
   ]
  }
 ],
 "metadata": {
  "kernelspec": {
   "display_name": "Python 3",
   "language": "python",
   "name": "python3"
  },
  "language_info": {
   "codemirror_mode": {
    "name": "ipython",
    "version": 3
   },
   "file_extension": ".py",
   "mimetype": "text/x-python",
   "name": "python",
   "nbconvert_exporter": "python",
   "pygments_lexer": "ipython3",
   "version": "3.6.1"
  }
 },
 "nbformat": 4,
 "nbformat_minor": 1
}
