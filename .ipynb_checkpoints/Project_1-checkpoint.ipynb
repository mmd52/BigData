{
 "cells": [
  {
   "cell_type": "code",
   "execution_count": 32,
   "metadata": {},
   "outputs": [
    {
     "name": "stdout",
     "output_type": "stream",
     "text": [
      "==================== BLOCK 1 Started! ======================\n",
      "==================== Packages Loaded ======================\n"
     ]
    }
   ],
   "source": [
    "print(\"==================== BLOCK 1 Started! ======================\")\n",
    "import warnings\n",
    "warnings.filterwarnings('ignore')\n",
    "import pandas as pd\n",
    "pd.options.display.max_rows=10\n",
    "pd.options.display.max_columns=50\n",
    "import numpy as np\n",
    "import time\n",
    "import sklearn\n",
    "import xgboost as xgb\n",
    "from sklearn.cross_validation import train_test_split, cross_val_score\n",
    "from sklearn.metrics import roc_curve,auc\n",
    "import matplotlib.pyplot as plt\n",
    "from sklearn.metrics import confusion_matrix, classification_report, precision_score\n",
    "from sklearn import datasets\n",
    "from sklearn.model_selection import cross_val_score\n",
    "from sklearn.feature_extraction.text import TfidfVectorizer\n",
    "from sklearn.feature_extraction.text import CountVectorizer\n",
    "from sklearn.preprocessing import LabelEncoder\n",
    "from sklearn.cross_validation import train_test_split\n",
    "from sklearn.linear_model import LogisticRegression\n",
    "%matplotlib inline\n",
    "r_state=52\n",
    "import warnings\n",
    "warnings.filterwarnings('ignore')\n",
    "print(\"==================== Packages Loaded ======================\")"
   ]
  },
  {
   "cell_type": "code",
   "execution_count": 5,
   "metadata": {
    "collapsed": true
   },
   "outputs": [],
   "source": [
    "train_df = pd.read_json('train.json')\n",
    "train_df['seperated_ingredients'] = train_df['ingredients'].apply(','.join)"
   ]
  },
  {
   "cell_type": "markdown",
   "metadata": {},
   "source": [
    "*** Using the count Vectorizer ***"
   ]
  },
  {
   "cell_type": "code",
   "execution_count": 6,
   "metadata": {
    "collapsed": true
   },
   "outputs": [],
   "source": [
    "vect = CountVectorizer()\n",
    "X_train_vectorized = vect.fit_transform(train_df['seperated_ingredients'].values)\n",
    "X_train_vectorized = X_train_vectorized.astype('float')"
   ]
  },
  {
   "cell_type": "code",
   "execution_count": 10,
   "metadata": {},
   "outputs": [],
   "source": [
    "encoder = LabelEncoder()\n",
    "y_transformed = encoder.fit_transform(train_df.cuisine)\n",
    "X_train, X_test, y_train, y_test = train_test_split(X_train_vectorized, y_transformed , random_state = 0)"
   ]
  },
  {
   "cell_type": "code",
   "execution_count": 17,
   "metadata": {},
   "outputs": [
    {
     "name": "stdout",
     "output_type": "stream",
     "text": [
      "The top accuracy forecast is 79.0%\n",
      "Obtained C value = 1.0\n"
     ]
    },
    {
     "data": {
      "image/png": "[encoded data removed]",
      "text/plain": [
       "<matplotlib.figure.Figure at 0x23f395925f8>"
      ]
     },
     "metadata": {},
     "output_type": "display_data"
    }
   ],
   "source": [
    "#r_state=52\n",
    "avg_scores = []\n",
    "parameter_values = [1,5,10]\n",
    "for mid in parameter_values:\n",
    "    #print(mid)\n",
    "    estimator = LogisticRegression(C=mid)\n",
    "    estimator.fit(X_train , y_train)\n",
    "    avg_scores.append(np.mean(estimator.score(X_test, y_test)))\n",
    "#print(avg_scores)\n",
    "\n",
    "plt.figure(figsize=(5,5))\n",
    "plt.plot(parameter_values, avg_scores, '-o', linewidth=2, markersize=5)\n",
    "print(\"The top accuracy forecast is {0:.1f}%\".format(avg_scores[np.argmax(avg_scores)]*100))\n",
    "print(\"Obtained C value = {0:.1f}\".format(parameter_values[np.argmax(avg_scores)]))"
   ]
  },
  {
   "cell_type": "markdown",
   "metadata": {},
   "source": [
    "*** Using the tf Idf *** "
   ]
  },
  {
   "cell_type": "code",
   "execution_count": 29,
   "metadata": {
    "collapsed": true
   },
   "outputs": [],
   "source": [
    "vect = TfidfVectorizer(binary=True)\n",
    "X_train_vectorized = vect.fit_transform(train_df['seperated_ingredients'].values)\n",
    "X_train_vectorized = X_train_vectorized.astype('float')"
   ]
  },
  {
   "cell_type": "code",
   "execution_count": 30,
   "metadata": {
    "collapsed": true
   },
   "outputs": [],
   "source": [
    "encoder = LabelEncoder()\n",
    "y_transformed = encoder.fit_transform(train_df.cuisine)\n",
    "X_train, X_test, y_train, y_test = train_test_split(X_train_vectorized, y_transformed , random_state = 0)"
   ]
  },
  {
   "cell_type": "code",
   "execution_count": 31,
   "metadata": {},
   "outputs": [
    {
     "name": "stdout",
     "output_type": "stream",
     "text": [
      "The top accuracy forecast is 79.5%\n",
      "Obtained C value = 5.0\n"
     ]
    },
    {
     "data": {
      "image/png": "[encoded data removed]",
      "text/plain": [
       "<matplotlib.figure.Figure at 0x23f39809358>"
      ]
     },
     "metadata": {},
     "output_type": "display_data"
    }
   ],
   "source": [
    "avg_scores = []\n",
    "parameter_values = [1,3,5,7,10]\n",
    "for mid in parameter_values:\n",
    "    estimator = LogisticRegression(C=mid)\n",
    "    estimator.fit(X_train , y_train)\n",
    "    avg_scores.append(np.mean(estimator.score(X_test, y_test)))\n",
    "\n",
    "plt.figure(figsize=(5,5))\n",
    "plt.plot(parameter_values, avg_scores, '-o', linewidth=2, markersize=5)\n",
    "print(\"The top accuracy forecast is {0:.1f}%\".format(avg_scores[np.argmax(avg_scores)]*100))\n",
    "print(\"Obtained C value = {0:.1f}\".format(parameter_values[np.argmax(avg_scores)]))"
   ]
  },
  {
   "cell_type": "markdown",
   "metadata": {},
   "source": [
    "*** Now playing around with models ***"
   ]
  },
  {
   "cell_type": "code",
   "execution_count": 33,
   "metadata": {
    "collapsed": true
   },
   "outputs": [],
   "source": [
    "vect = TfidfVectorizer(binary=True)\n",
    "X_train_vectorized = vect.fit_transform(train_df['seperated_ingredients'].values)\n",
    "X_train_vectorized = X_train_vectorized.astype('float')\n",
    "\n",
    "encoder = LabelEncoder()\n",
    "y_transformed = encoder.fit_transform(train_df.cuisine)\n",
    "X_train, X_test, y_train, y_test = train_test_split(X_train_vectorized, y_transformed , random_state = 0)"
   ]
  },
  {
   "cell_type": "markdown",
   "metadata": {},
   "source": [
    "*** XGBOOST ***"
   ]
  },
  {
   "cell_type": "code",
   "execution_count": 51,
   "metadata": {
    "collapsed": true
   },
   "outputs": [],
   "source": [
    "params = {\"objective\":\"multi:softmax\",\"nthread\":4,\"learning_rate\":0.1,\"max_depth\":10,\n",
    "         \"subsample\":0.2,\"colsample_bytree\":0.5,\"seed\":52,\"num_class\":20,\"min_child_weight\":1.2}\n",
    "\n",
    "# Instantiate the XGBClassifier: xg_cl\n",
    "xg_cl = xgb.XGBClassifier(params=params)"
   ]
  },
  {
   "cell_type": "code",
   "execution_count": null,
   "metadata": {},
   "outputs": [],
   "source": [
    "# Fit the classifier to the training set\n",
    "xg_cl.fit(X_train,y_train)\n",
    "\n",
    "# Predict the labels of the test set: preds\n",
    "preds = xg_cl.predict(X_test)\n",
    "\n",
    "# Compute the accuracy: accuracy\n",
    "accuracy = float(np.sum(preds==y_test))/y_test.shape[0]\n",
    "print(\"accuracy: %f\" % (accuracy))"
   ]
  },
  {
   "cell_type": "markdown",
   "metadata": {},
   "source": [
    "*** Random Forest ***"
   ]
  },
  {
   "cell_type": "code",
   "execution_count": null,
   "metadata": {
    "collapsed": true
   },
   "outputs": [],
   "source": [
    "r_state=52\n",
    "from sklearn import tree\n",
    "avg_scores = []\n",
    "parameter_values = np.arange(0,0.1, 0.1)\n",
    "for mid in parameter_values:\n",
    "    estimator = tree.DecisionTreeClassifier(criterion=\"entropy\", random_state = r_state, min_impurity_decrease = mid)\n",
    "    scores = cross_val_score(estimator, X_train, y_train, scoring='accuracy', cv = 10)\n",
    "    avg_scores.append(np.mean(scores))\n",
    "#print(avg_scores)\n",
    "\n",
    "plt.figure(figsize=(5,5))\n",
    "plt.plot(parameter_values, avg_scores, '-o', linewidth=2, markersize=5)\n",
    "print(\"The top accuracy forecast with cross validation is {0:.1f}%\".format(avg_scores[np.argmax(avg_scores)]*100))\n",
    "print(\"Obtained with min_impurity_decrease = {0:.1f}\".format(parameter_values[np.argmax(avg_scores)]))"
   ]
  }
 ],
 "metadata": {
  "kernelspec": {
   "display_name": "Python 3",
   "language": "python",
   "name": "python3"
  },
  "language_info": {
   "codemirror_mode": {
    "name": "ipython",
    "version": 3
   },
   "file_extension": ".py",
   "mimetype": "text/x-python",
   "name": "python",
   "nbconvert_exporter": "python",
   "pygments_lexer": "ipython3",
   "version": "3.6.1"
  }
 },
 "nbformat": 4,
 "nbformat_minor": 2
}
